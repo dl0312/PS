{
  "nbformat": 4,
  "nbformat_minor": 0,
  "metadata": {
    "colab": {
      "name": "p3.ipynb",
      "version": "0.3.2",
      "provenance": [],
      "include_colab_link": true
    },
    "kernelspec": {
      "name": "python3",
      "display_name": "Python 3"
    }
  },
  "cells": [
    {
      "cell_type": "markdown",
      "metadata": {
        "id": "view-in-github",
        "colab_type": "text"
      },
      "source": [
        "<a href=\"https://colab.research.google.com/github/dl0312/PS/blob/master/sp_pj4/p3.ipynb\" target=\"_parent\"><img src=\"https://colab.research.google.com/assets/colab-badge.svg\" alt=\"Open In Colab\"/></a>"
      ]
    },
    {
      "cell_type": "code",
      "metadata": {
        "id": "84bHHN9eW43Y",
        "colab_type": "code",
        "colab": {
          "base_uri": "https://localhost:8080/",
          "height": 52
        },
        "outputId": "598624e4-3b48-4234-f869-cf61c10f88d6"
      },
      "source": [
        "def solution(A):\n",
        "    ary = []\n",
        "    for a in A:\n",
        "        for b in A:\n",
        "            ary.append(abs(a+b))\n",
        "    ary.sort()\n",
        "    return ary[0]\n",
        "\n",
        "input = [int(i) for i in input().split(\" \")]\n",
        "print(solution(input))"
      ],
      "execution_count": 1,
      "outputs": [
        {
          "output_type": "stream",
          "text": [
            "-8 4 5 -10 3\n",
            "3\n"
          ],
          "name": "stdout"
        }
      ]
    }
  ]
}