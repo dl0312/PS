{
  "nbformat": 4,
  "nbformat_minor": 0,
  "metadata": {
    "colab": {
      "name": "p1.ipynb",
      "version": "0.3.2",
      "provenance": [],
      "collapsed_sections": [],
      "include_colab_link": true
    },
    "kernelspec": {
      "name": "python3",
      "display_name": "Python 3"
    }
  },
  "cells": [
    {
      "cell_type": "markdown",
      "metadata": {
        "id": "view-in-github",
        "colab_type": "text"
      },
      "source": [
        "<a href=\"https://colab.research.google.com/github/dl0312/PS/blob/master/sp_pj4/p1.ipynb\" target=\"_parent\"><img src=\"https://colab.research.google.com/assets/colab-badge.svg\" alt=\"Open In Colab\"/></a>"
      ]
    },
    {
      "cell_type": "code",
      "metadata": {
        "id": "IYJCDv8mUPS_",
        "colab_type": "code",
        "colab": {
          "base_uri": "https://localhost:8080/",
          "height": 69
        },
        "outputId": "907b57c7-6919-4a97-ba0f-ffc181d6d4dc"
      },
      "source": [
        "def solution(ary):\n",
        "    result = []\n",
        "    for idx in range(N):\n",
        "        result.append(0)\n",
        "    for counter in A:\n",
        "        if 1 <= counter and counter <= N:\n",
        "            result[counter-1] += 1\n",
        "        elif counter == N+1:\n",
        "            max_counter = max(result)\n",
        "            for idx in range(N):\n",
        "                result[idx] = max_counter\n",
        "    print(\" \".join([str(i) for i in result]))\n",
        "\n",
        "N = int(input())\n",
        "A = input()\n",
        "A = [int(n) for n in A.split(\" \")]\n",
        "solution(A)"
      ],
      "execution_count": 4,
      "outputs": [
        {
          "output_type": "stream",
          "text": [
            "5\n",
            "3 4 4 6 1 4 4\n",
            "3 2 2 4 2\n"
          ],
          "name": "stdout"
        }
      ]
    }
  ]
}