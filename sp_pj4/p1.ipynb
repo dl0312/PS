{
  "nbformat": 4,
  "nbformat_minor": 0,
  "metadata": {
    "colab": {
      "name": "p1.ipynb의 사본",
      "version": "0.3.2",
      "provenance": [],
      "collapsed_sections": [],
      "include_colab_link": true
    },
    "kernelspec": {
      "name": "python3",
      "display_name": "Python 3"
    }
  },
  "cells": [
    {
      "cell_type": "markdown",
      "metadata": {
        "id": "view-in-github",
        "colab_type": "text"
      },
      "source": [
        "<a href=\"https://colab.research.google.com/github/dl0312/PS/blob/master/sp_pj4/p1.ipynb\" target=\"_parent\"><img src=\"https://colab.research.google.com/assets/colab-badge.svg\" alt=\"Open In Colab\"/></a>"
      ]
    },
    {
      "cell_type": "code",
      "metadata": {
        "id": "IYJCDv8mUPS_",
        "colab_type": "code",
        "outputId": "bdf9992c-a3b5-43f7-add1-7e092e43c6a5",
        "colab": {
          "base_uri": "https://localhost:8080/",
          "height": 67
        }
      },
      "source": [
        "def solution(n, a):\n",
        "    result = []\n",
        "    for idx in range(n):\n",
        "        result.append(0)\n",
        "    for counter in a:\n",
        "        if 1 <= counter and counter <= n:\n",
        "            result[counter-1] += 1\n",
        "        elif counter == n+1:\n",
        "            max_counter = max(result)\n",
        "            for idx in range(N):\n",
        "                result[idx] = max_counter\n",
        "    print(\" \".join([str(i) for i in result]))\n",
        "\n",
        "N = int(input())\n",
        "A = input()\n",
        "A = [int(n) for n in A.split(\" \")]\n",
        "solution(N, A)"
      ],
      "execution_count": 2,
      "outputs": [
        {
          "output_type": "stream",
          "text": [
            "5\n",
            "3 4 4 6 1 4 4\n",
            "3 2 2 4 2\n"
          ],
          "name": "stdout"
        }
      ]
    }
  ]
}