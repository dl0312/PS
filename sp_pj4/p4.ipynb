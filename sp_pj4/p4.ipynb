{
  "nbformat": 4,
  "nbformat_minor": 0,
  "metadata": {
    "colab": {
      "name": "p4.ipynb",
      "version": "0.3.2",
      "provenance": [],
      "collapsed_sections": [],
      "include_colab_link": true
    },
    "kernelspec": {
      "name": "python3",
      "display_name": "Python 3"
    }
  },
  "cells": [
    {
      "cell_type": "markdown",
      "metadata": {
        "id": "view-in-github",
        "colab_type": "text"
      },
      "source": [
        "<a href=\"https://colab.research.google.com/github/dl0312/PS/blob/master/sp_pj4/p4.ipynb\" target=\"_parent\"><img src=\"https://colab.research.google.com/assets/colab-badge.svg\" alt=\"Open In Colab\"/></a>"
      ]
    },
    {
      "cell_type": "code",
      "metadata": {
        "id": "g1tGHPCHXsWe",
        "colab_type": "code",
        "colab": {
          "base_uri": "https://localhost:8080/",
          "height": 138
        },
        "outputId": "2a2b6ea0-4bed-4995-e5ee-c0069b263faa"
      },
      "source": [
        "import numpy as np\n",
        "import math\n",
        "from decimal import *\n",
        "\n",
        "size = int(input())\n",
        "np_ary = np.random.random((size, size))\n",
        "for i in range(len(np_ary)):\n",
        "    for j in range(len(np_ary[i])):\n",
        "        np_ary[i][j] = Decimal(np_ary[i][j]).quantize(Decimal('1.00'))\n",
        "\n",
        "print(np_ary)\n",
        "\n",
        "rows, columns = np_ary.shape\n",
        "\n",
        "row_idx = rows // 2\n",
        "column_idx = columns // 2\n",
        "print(np_ary[:row_idx * 2, :column_idx * 2].reshape(row_idx, 2, column_idx, 2).max(axis=(1, 3)))"
      ],
      "execution_count": 8,
      "outputs": [
        {
          "output_type": "stream",
          "text": [
            "4\n",
            "[[0.63 0.81 0.01 0.75]\n",
            " [0.26 0.78 0.52 0.58]\n",
            " [0.31 0.14 0.77 0.98]\n",
            " [0.65 0.49 0.4  0.34]]\n",
            "[[0.81 0.75]\n",
            " [0.65 0.98]]\n"
          ],
          "name": "stdout"
        }
      ]
    }
  ]
}