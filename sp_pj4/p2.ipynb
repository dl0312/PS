{
  "nbformat": 4,
  "nbformat_minor": 0,
  "metadata": {
    "colab": {
      "name": "p2.ipynb",
      "version": "0.3.2",
      "provenance": [],
      "include_colab_link": true
    },
    "kernelspec": {
      "name": "python3",
      "display_name": "Python 3"
    }
  },
  "cells": [
    {
      "cell_type": "markdown",
      "metadata": {
        "id": "view-in-github",
        "colab_type": "text"
      },
      "source": [
        "<a href=\"https://colab.research.google.com/github/dl0312/PS/blob/master/sp_pj4/p2.ipynb\" target=\"_parent\"><img src=\"https://colab.research.google.com/assets/colab-badge.svg\" alt=\"Open In Colab\"/></a>"
      ]
    },
    {
      "cell_type": "code",
      "metadata": {
        "id": "JAgnr3yOWcuh",
        "colab_type": "code",
        "colab": {
          "base_uri": "https://localhost:8080/",
          "height": 69
        },
        "outputId": "b9b3261b-1c47-4ccd-eb74-58f9e031e0ea"
      },
      "source": [
        "def prime_factors(n):\n",
        "    i = 2\n",
        "    factors = set()\n",
        "    while i * i <= n:\n",
        "        if n % i:\n",
        "            i += 1\n",
        "        else:\n",
        "            n //= i\n",
        "            factors.add(i)\n",
        "    if n > 1:\n",
        "        factors.add(n)\n",
        "    return factors\n",
        "\n",
        "A = [int(i) for i in input().split(\" \")]\n",
        "B = [int(i) for i in input().split(\" \")]\n",
        "\n",
        "result = 0\n",
        "for idx in range(len(A)):\n",
        "    if prime_factors(A[idx]) == prime_factors(B[idx]):\n",
        "        result += 1\n",
        "        \n",
        "print(result)"
      ],
      "execution_count": 1,
      "outputs": [
        {
          "output_type": "stream",
          "text": [
            "15 10 3\n",
            "75 30 5\n",
            "1\n"
          ],
          "name": "stdout"
        }
      ]
    }
  ]
}